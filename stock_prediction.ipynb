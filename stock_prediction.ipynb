{
  "nbformat": 4,
  "nbformat_minor": 0,
  "metadata": {
    "colab": {
      "provenance": [],
      "authorship_tag": "ABX9TyOau/aaXuQg9+4GQTkMK94X",
      "include_colab_link": true
    },
    "kernelspec": {
      "name": "python3",
      "display_name": "Python 3"
    },
    "language_info": {
      "name": "python"
    }
  },
  "cells": [
    {
      "cell_type": "markdown",
      "metadata": {
        "id": "view-in-github",
        "colab_type": "text"
      },
      "source": [
        "<a href=\"https://colab.research.google.com/github/XyonX/BatchScripting/blob/main/stock_prediction.ipynb\" target=\"_parent\"><img src=\"https://colab.research.google.com/assets/colab-badge.svg\" alt=\"Open In Colab\"/></a>"
      ]
    },
    {
      "cell_type": "code",
      "execution_count": 1,
      "metadata": {
        "id": "ijzwteGzKJhh"
      },
      "outputs": [],
      "source": [
        "import numpy as np\n",
        "import yfinance as yf\n",
        "import pandas as pd"
      ]
    },
    {
      "cell_type": "code",
      "source": [
        "# Define the stock ticker and date range\n",
        "ticker = \"AAPL\"\n",
        "start_date = \"2020-01-01\"\n",
        "end_date = \"2025-01-01\"\n",
        "\n",
        "# Fetch the data\n",
        "data = yf.download(ticker, start=start_date, end=end_date)\n",
        "\n",
        "# Access the Close prices properly from MultiIndex\n",
        "closing_prices = data['Close'][ticker].tolist()  # Modified this lineV"
      ],
      "metadata": {
        "colab": {
          "base_uri": "https://localhost:8080/"
        },
        "id": "_rB2frpXKOD8",
        "outputId": "8b610009-8e62-4b2f-e69c-0ef32fca6d02"
      },
      "execution_count": 2,
      "outputs": [
        {
          "output_type": "stream",
          "name": "stdout",
          "text": [
            "YF.download() has changed argument auto_adjust default to True\n"
          ]
        },
        {
          "output_type": "stream",
          "name": "stderr",
          "text": [
            "\r[*********************100%***********************]  1 of 1 completed\n"
          ]
        }
      ]
    },
    {
      "cell_type": "code",
      "source": [
        "def make_dataset(raw_data,window_size=20):\n",
        "    size=len(raw_data)\n",
        "    x=[]\n",
        "    y=[]\n",
        "    for i in range(size-window_size):\n",
        "        block=raw_data[i:i+window_size]\n",
        "        x_i=[p/block[0] for  p in block ]\n",
        "        y_i = (raw_data[i + window_size] - block[-1]) / block[-1]\n",
        "        x.append(x_i)\n",
        "        y.append(y_i)\n",
        "\n",
        "    return x,y\n",
        "\n",
        "def split_dataset(data, train_ratio, val_ratio, test_ratio):\n",
        "    assert abs(train_ratio + val_ratio + test_ratio - 1.0) < 1e-6, \"Ratios must sum to 1\"\n",
        "\n",
        "    length = len(data)\n",
        "    train_end = int(length * train_ratio)\n",
        "    val_end = train_end + int(length * val_ratio)\n",
        "\n",
        "    x_train = data[:train_end]\n",
        "    x_validation = data[train_end:val_end]\n",
        "    x_test = data[val_end:]\n",
        "\n",
        "    return x_train, x_validation, x_test"
      ],
      "metadata": {
        "id": "IQcEyPckKVj0"
      },
      "execution_count": 8,
      "outputs": []
    },
    {
      "cell_type": "code",
      "source": [
        "X,Y= make_dataset(closing_prices)\n",
        "\n",
        "\n",
        "X_train, X_validation, X_test = split_dataset(X,0.7,0.15,0.15)\n",
        "Y_train, Y_validation, Y_test = split_dataset(Y,0.7,0.15,0.15)"
      ],
      "metadata": {
        "id": "1B-6BKEVKYxH"
      },
      "execution_count": 9,
      "outputs": []
    },
    {
      "cell_type": "code",
      "source": [
        "# Import pandas if you haven't already\n",
        "import pandas as pd\n",
        "\n",
        "# Function to save a dataset (list of lists) to CSV\n",
        "def save_to_csv(data, filename):\n",
        "    # Convert list of lists to pandas DataFrame\n",
        "    df = pd.DataFrame(data)\n",
        "    # Save DataFrame to CSV\n",
        "    df.to_csv(filename, index=False)\n",
        "    print(f\"Data saved to {filename}\")\n",
        "\n",
        "# Save each dataset to a separate CSV file\n",
        "save_to_csv(X_train, 'X_train.csv')\n",
        "save_to_csv(X_validation, 'X_validation.csv')\n",
        "save_to_csv(X_test, 'X_test.csv')\n",
        "save_to_csv(Y_train, 'Y_train.csv')\n",
        "save_to_csv(Y_validation, 'Y_validation.csv')\n",
        "save_to_csv(Y_test, 'Y_test.csv')"
      ],
      "metadata": {
        "colab": {
          "base_uri": "https://localhost:8080/"
        },
        "id": "5j6HoygGPdV-",
        "outputId": "c3690e41-776e-4b88-8605-a8159e3b3207"
      },
      "execution_count": 29,
      "outputs": [
        {
          "output_type": "stream",
          "name": "stdout",
          "text": [
            "Data saved to X_train.csv\n",
            "Data saved to X_validation.csv\n",
            "Data saved to X_test.csv\n",
            "Data saved to Y_train.csv\n",
            "Data saved to Y_validation.csv\n",
            "Data saved to Y_test.csv\n"
          ]
        }
      ]
    },
    {
      "cell_type": "code",
      "source": [
        "print(\"X_train:\", type(X_train), \"Shape/Length:\", X_train.shape if hasattr(X_train, 'shape') else len(X_train))\n",
        "print(\"X_validation:\", type(X_validation), \"Shape/Length:\", X_validation.shape if hasattr(X_validation, 'shape') else len(X_validation))\n",
        "print(\"X_test:\", type(X_test), \"Shape/Length:\", X_test.shape if hasattr(X_test, 'shape') else len(X_test))\n",
        "\n",
        "print(\"Y_train:\", type(Y_train), \"Shape/Length:\", Y_train.shape if hasattr(Y_train, 'shape') else len(Y_train))\n",
        "print(\"Y_validation:\", type(Y_validation), \"Shape/Length:\", Y_validation.shape if hasattr(Y_validation, 'shape') else len(Y_validation))\n",
        "print(\"Y_test:\", type(Y_test), \"Shape/Length:\", Y_test.shape if hasattr(Y_test, 'shape') else len(Y_test))\n"
      ],
      "metadata": {
        "colab": {
          "base_uri": "https://localhost:8080/"
        },
        "id": "9NFsDgUtKoF7",
        "outputId": "e20f1a74-2577-4c17-b04a-79692210df32"
      },
      "execution_count": 10,
      "outputs": [
        {
          "output_type": "stream",
          "name": "stdout",
          "text": [
            "X_train: <class 'list'> Shape/Length: 866\n",
            "X_validation: <class 'list'> Shape/Length: 185\n",
            "X_test: <class 'list'> Shape/Length: 187\n",
            "Y_train: <class 'list'> Shape/Length: 866\n",
            "Y_validation: <class 'list'> Shape/Length: 185\n",
            "Y_test: <class 'list'> Shape/Length: 187\n"
          ]
        }
      ]
    },
    {
      "cell_type": "code",
      "source": [
        "print(\"Sample X_train[0]:\", X_train[0])\n",
        "print(\"Sample Y_train[0]:\", Y_train[0])\n"
      ],
      "metadata": {
        "colab": {
          "base_uri": "https://localhost:8080/"
        },
        "id": "30GQszyoK9E8",
        "outputId": "c79fc5cc-7c17-4614-a2d7-a88c410b50d3"
      },
      "execution_count": 11,
      "outputs": [
        {
          "output_type": "stream",
          "name": "stdout",
          "text": [
            "Sample X_train[0]: [1.0, 0.9902778351218918, 0.9981686303567588, 0.9934744324219664, 1.0094554228218788, 1.0308972187912058, 1.0332279287232449, 1.0553023834805246, 1.0410520121795748, 1.0365904124773508, 1.0495751510286377, 1.0611952922706052, 1.0540035524284717, 1.0577659916800433, 1.0628598299385443, 1.059796761253463, 1.0286331155797848, 1.0577325832618152, 1.0798735396817942, 1.0783084918631065]\n",
            "Sample Y_train[0]: -0.04433861333797352\n"
          ]
        }
      ]
    },
    {
      "cell_type": "code",
      "source": [
        "import tensorflow as tf\n",
        "from tensorflow.keras.models import Sequential\n",
        "from tensorflow.keras.layers import Dense, Dropout\n",
        "import numpy as np\n",
        "import matplotlib.pyplot as plt"
      ],
      "metadata": {
        "id": "vbfqbw0GNPN2"
      },
      "execution_count": 12,
      "outputs": []
    },
    {
      "cell_type": "code",
      "source": [
        "window_size = 20"
      ],
      "metadata": {
        "id": "kZtjCzI3Ni9F"
      },
      "execution_count": 14,
      "outputs": []
    },
    {
      "cell_type": "code",
      "source": [
        "# Define the MLP model\n",
        "model = Sequential([\n",
        "    Dense(64, activation='relu', input_shape=(window_size,)),  # Hidden layer 1\n",
        "    Dropout(0.2),  # Regularization to prevent overfitting\n",
        "    Dense(32, activation='relu'),  # Hidden layer 2\n",
        "    Dropout(0.2),\n",
        "    Dense(1, activation='linear')  # Output layer\n",
        "])"
      ],
      "metadata": {
        "colab": {
          "base_uri": "https://localhost:8080/"
        },
        "id": "xGdxC0S0NRhR",
        "outputId": "30599b12-1661-4971-cd5e-4c196cb570ab"
      },
      "execution_count": 15,
      "outputs": [
        {
          "output_type": "stream",
          "name": "stderr",
          "text": [
            "/usr/local/lib/python3.11/dist-packages/keras/src/layers/core/dense.py:87: UserWarning: Do not pass an `input_shape`/`input_dim` argument to a layer. When using Sequential models, prefer using an `Input(shape)` object as the first layer in the model instead.\n",
            "  super().__init__(activity_regularizer=activity_regularizer, **kwargs)\n"
          ]
        }
      ]
    },
    {
      "cell_type": "code",
      "source": [
        "# Compile the model\n",
        "model.compile(optimizer='adam', loss='mse', metrics=['mae'])"
      ],
      "metadata": {
        "id": "2zs_JF2NNkll"
      },
      "execution_count": 16,
      "outputs": []
    },
    {
      "cell_type": "code",
      "source": [
        "# Convert the datasets to NumPy arrays before training\n",
        "X_train = np.array(X_train)\n",
        "X_validation = np.array(X_validation)\n",
        "X_test = np.array(X_test)\n",
        "\n",
        "Y_train = np.array(Y_train)\n",
        "Y_validation = np.array(Y_validation)\n",
        "Y_test = np.array(Y_test)\n",
        "\n",
        "# Train the model\n",
        "history = model.fit(X_train, Y_train,\n",
        "                    epochs=50,\n",
        "                    batch_size=32,\n",
        "                    validation_data=(X_validation, Y_validation),\n",
        "                    verbose=1)"
      ],
      "metadata": {
        "colab": {
          "base_uri": "https://localhost:8080/"
        },
        "id": "Evz74PvQNnEi",
        "outputId": "d9ae9541-586d-4261-f7f0-7c88740364aa"
      },
      "execution_count": 18,
      "outputs": [
        {
          "output_type": "stream",
          "name": "stdout",
          "text": [
            "Epoch 1/50\n",
            "\u001b[1m28/28\u001b[0m \u001b[32m━━━━━━━━━━━━━━━━━━━━\u001b[0m\u001b[37m\u001b[0m \u001b[1m2s\u001b[0m 12ms/step - loss: 0.0554 - mae: 0.1802 - val_loss: 1.7748e-04 - val_mae: 0.0101\n",
            "Epoch 2/50\n",
            "\u001b[1m28/28\u001b[0m \u001b[32m━━━━━━━━━━━━━━━━━━━━\u001b[0m\u001b[37m\u001b[0m \u001b[1m0s\u001b[0m 4ms/step - loss: 0.0102 - mae: 0.0804 - val_loss: 6.5275e-04 - val_mae: 0.0233\n",
            "Epoch 3/50\n",
            "\u001b[1m28/28\u001b[0m \u001b[32m━━━━━━━━━━━━━━━━━━━━\u001b[0m\u001b[37m\u001b[0m \u001b[1m0s\u001b[0m 4ms/step - loss: 0.0037 - mae: 0.0473 - val_loss: 2.9666e-04 - val_mae: 0.0144\n",
            "Epoch 4/50\n",
            "\u001b[1m28/28\u001b[0m \u001b[32m━━━━━━━━━━━━━━━━━━━━\u001b[0m\u001b[37m\u001b[0m \u001b[1m0s\u001b[0m 4ms/step - loss: 0.0025 - mae: 0.0364 - val_loss: 1.6185e-04 - val_mae: 0.0098\n",
            "Epoch 5/50\n",
            "\u001b[1m28/28\u001b[0m \u001b[32m━━━━━━━━━━━━━━━━━━━━\u001b[0m\u001b[37m\u001b[0m \u001b[1m0s\u001b[0m 4ms/step - loss: 0.0016 - mae: 0.0274 - val_loss: 1.7094e-04 - val_mae: 0.0098\n",
            "Epoch 6/50\n",
            "\u001b[1m28/28\u001b[0m \u001b[32m━━━━━━━━━━━━━━━━━━━━\u001b[0m\u001b[37m\u001b[0m \u001b[1m0s\u001b[0m 4ms/step - loss: 0.0013 - mae: 0.0246 - val_loss: 1.7341e-04 - val_mae: 0.0099\n",
            "Epoch 7/50\n",
            "\u001b[1m28/28\u001b[0m \u001b[32m━━━━━━━━━━━━━━━━━━━━\u001b[0m\u001b[37m\u001b[0m \u001b[1m0s\u001b[0m 5ms/step - loss: 9.9099e-04 - mae: 0.0227 - val_loss: 1.8441e-04 - val_mae: 0.0102\n",
            "Epoch 8/50\n",
            "\u001b[1m28/28\u001b[0m \u001b[32m━━━━━━━━━━━━━━━━━━━━\u001b[0m\u001b[37m\u001b[0m \u001b[1m0s\u001b[0m 4ms/step - loss: 8.9187e-04 - mae: 0.0208 - val_loss: 2.0214e-04 - val_mae: 0.0107\n",
            "Epoch 9/50\n",
            "\u001b[1m28/28\u001b[0m \u001b[32m━━━━━━━━━━━━━━━━━━━━\u001b[0m\u001b[37m\u001b[0m \u001b[1m0s\u001b[0m 4ms/step - loss: 7.5964e-04 - mae: 0.0201 - val_loss: 1.8929e-04 - val_mae: 0.0104\n",
            "Epoch 10/50\n",
            "\u001b[1m28/28\u001b[0m \u001b[32m━━━━━━━━━━━━━━━━━━━━\u001b[0m\u001b[37m\u001b[0m \u001b[1m0s\u001b[0m 4ms/step - loss: 6.9215e-04 - mae: 0.0191 - val_loss: 1.8918e-04 - val_mae: 0.0104\n",
            "Epoch 11/50\n",
            "\u001b[1m28/28\u001b[0m \u001b[32m━━━━━━━━━━━━━━━━━━━━\u001b[0m\u001b[37m\u001b[0m \u001b[1m0s\u001b[0m 4ms/step - loss: 6.4524e-04 - mae: 0.0185 - val_loss: 1.8140e-04 - val_mae: 0.0101\n",
            "Epoch 12/50\n",
            "\u001b[1m28/28\u001b[0m \u001b[32m━━━━━━━━━━━━━━━━━━━━\u001b[0m\u001b[37m\u001b[0m \u001b[1m0s\u001b[0m 4ms/step - loss: 7.0719e-04 - mae: 0.0180 - val_loss: 1.8218e-04 - val_mae: 0.0102\n",
            "Epoch 13/50\n",
            "\u001b[1m28/28\u001b[0m \u001b[32m━━━━━━━━━━━━━━━━━━━━\u001b[0m\u001b[37m\u001b[0m \u001b[1m0s\u001b[0m 4ms/step - loss: 6.3006e-04 - mae: 0.0181 - val_loss: 1.7308e-04 - val_mae: 0.0099\n",
            "Epoch 14/50\n",
            "\u001b[1m28/28\u001b[0m \u001b[32m━━━━━━━━━━━━━━━━━━━━\u001b[0m\u001b[37m\u001b[0m \u001b[1m0s\u001b[0m 4ms/step - loss: 5.4814e-04 - mae: 0.0175 - val_loss: 1.7459e-04 - val_mae: 0.0100\n",
            "Epoch 15/50\n",
            "\u001b[1m28/28\u001b[0m \u001b[32m━━━━━━━━━━━━━━━━━━━━\u001b[0m\u001b[37m\u001b[0m \u001b[1m0s\u001b[0m 4ms/step - loss: 6.0090e-04 - mae: 0.0180 - val_loss: 1.8779e-04 - val_mae: 0.0103\n",
            "Epoch 16/50\n",
            "\u001b[1m28/28\u001b[0m \u001b[32m━━━━━━━━━━━━━━━━━━━━\u001b[0m\u001b[37m\u001b[0m \u001b[1m0s\u001b[0m 4ms/step - loss: 5.9381e-04 - mae: 0.0171 - val_loss: 1.7149e-04 - val_mae: 0.0099\n",
            "Epoch 17/50\n",
            "\u001b[1m28/28\u001b[0m \u001b[32m━━━━━━━━━━━━━━━━━━━━\u001b[0m\u001b[37m\u001b[0m \u001b[1m0s\u001b[0m 6ms/step - loss: 5.5259e-04 - mae: 0.0170 - val_loss: 1.6618e-04 - val_mae: 0.0097\n",
            "Epoch 18/50\n",
            "\u001b[1m28/28\u001b[0m \u001b[32m━━━━━━━━━━━━━━━━━━━━\u001b[0m\u001b[37m\u001b[0m \u001b[1m0s\u001b[0m 6ms/step - loss: 5.8097e-04 - mae: 0.0169 - val_loss: 1.6903e-04 - val_mae: 0.0098\n",
            "Epoch 19/50\n",
            "\u001b[1m28/28\u001b[0m \u001b[32m━━━━━━━━━━━━━━━━━━━━\u001b[0m\u001b[37m\u001b[0m \u001b[1m0s\u001b[0m 8ms/step - loss: 5.6906e-04 - mae: 0.0170 - val_loss: 1.6518e-04 - val_mae: 0.0097\n",
            "Epoch 20/50\n",
            "\u001b[1m28/28\u001b[0m \u001b[32m━━━━━━━━━━━━━━━━━━━━\u001b[0m\u001b[37m\u001b[0m \u001b[1m0s\u001b[0m 6ms/step - loss: 5.4999e-04 - mae: 0.0170 - val_loss: 1.6561e-04 - val_mae: 0.0097\n",
            "Epoch 21/50\n",
            "\u001b[1m28/28\u001b[0m \u001b[32m━━━━━━━━━━━━━━━━━━━━\u001b[0m\u001b[37m\u001b[0m \u001b[1m0s\u001b[0m 7ms/step - loss: 4.9045e-04 - mae: 0.0160 - val_loss: 1.6064e-04 - val_mae: 0.0096\n",
            "Epoch 22/50\n",
            "\u001b[1m28/28\u001b[0m \u001b[32m━━━━━━━━━━━━━━━━━━━━\u001b[0m\u001b[37m\u001b[0m \u001b[1m0s\u001b[0m 7ms/step - loss: 5.7968e-04 - mae: 0.0172 - val_loss: 1.6580e-04 - val_mae: 0.0097\n",
            "Epoch 23/50\n",
            "\u001b[1m28/28\u001b[0m \u001b[32m━━━━━━━━━━━━━━━━━━━━\u001b[0m\u001b[37m\u001b[0m \u001b[1m0s\u001b[0m 6ms/step - loss: 6.2152e-04 - mae: 0.0176 - val_loss: 1.6750e-04 - val_mae: 0.0098\n",
            "Epoch 24/50\n",
            "\u001b[1m28/28\u001b[0m \u001b[32m━━━━━━━━━━━━━━━━━━━━\u001b[0m\u001b[37m\u001b[0m \u001b[1m0s\u001b[0m 7ms/step - loss: 5.3172e-04 - mae: 0.0167 - val_loss: 1.6412e-04 - val_mae: 0.0097\n",
            "Epoch 25/50\n",
            "\u001b[1m28/28\u001b[0m \u001b[32m━━━━━━━━━━━━━━━━━━━━\u001b[0m\u001b[37m\u001b[0m \u001b[1m0s\u001b[0m 4ms/step - loss: 4.6246e-04 - mae: 0.0155 - val_loss: 1.6138e-04 - val_mae: 0.0096\n",
            "Epoch 26/50\n",
            "\u001b[1m28/28\u001b[0m \u001b[32m━━━━━━━━━━━━━━━━━━━━\u001b[0m\u001b[37m\u001b[0m \u001b[1m0s\u001b[0m 4ms/step - loss: 4.9132e-04 - mae: 0.0160 - val_loss: 1.6324e-04 - val_mae: 0.0097\n",
            "Epoch 27/50\n",
            "\u001b[1m28/28\u001b[0m \u001b[32m━━━━━━━━━━━━━━━━━━━━\u001b[0m\u001b[37m\u001b[0m \u001b[1m0s\u001b[0m 5ms/step - loss: 5.9247e-04 - mae: 0.0170 - val_loss: 1.6355e-04 - val_mae: 0.0097\n",
            "Epoch 28/50\n",
            "\u001b[1m28/28\u001b[0m \u001b[32m━━━━━━━━━━━━━━━━━━━━\u001b[0m\u001b[37m\u001b[0m \u001b[1m0s\u001b[0m 4ms/step - loss: 4.9817e-04 - mae: 0.0164 - val_loss: 1.5867e-04 - val_mae: 0.0096\n",
            "Epoch 29/50\n",
            "\u001b[1m28/28\u001b[0m \u001b[32m━━━━━━━━━━━━━━━━━━━━\u001b[0m\u001b[37m\u001b[0m \u001b[1m0s\u001b[0m 4ms/step - loss: 5.2863e-04 - mae: 0.0165 - val_loss: 1.6029e-04 - val_mae: 0.0096\n",
            "Epoch 30/50\n",
            "\u001b[1m28/28\u001b[0m \u001b[32m━━━━━━━━━━━━━━━━━━━━\u001b[0m\u001b[37m\u001b[0m \u001b[1m0s\u001b[0m 4ms/step - loss: 6.0806e-04 - mae: 0.0167 - val_loss: 1.5738e-04 - val_mae: 0.0095\n",
            "Epoch 31/50\n",
            "\u001b[1m28/28\u001b[0m \u001b[32m━━━━━━━━━━━━━━━━━━━━\u001b[0m\u001b[37m\u001b[0m \u001b[1m0s\u001b[0m 5ms/step - loss: 5.3324e-04 - mae: 0.0170 - val_loss: 1.5876e-04 - val_mae: 0.0096\n",
            "Epoch 32/50\n",
            "\u001b[1m28/28\u001b[0m \u001b[32m━━━━━━━━━━━━━━━━━━━━\u001b[0m\u001b[37m\u001b[0m \u001b[1m0s\u001b[0m 4ms/step - loss: 5.0581e-04 - mae: 0.0164 - val_loss: 1.5397e-04 - val_mae: 0.0095\n",
            "Epoch 33/50\n",
            "\u001b[1m28/28\u001b[0m \u001b[32m━━━━━━━━━━━━━━━━━━━━\u001b[0m\u001b[37m\u001b[0m \u001b[1m0s\u001b[0m 5ms/step - loss: 6.1182e-04 - mae: 0.0176 - val_loss: 1.5823e-04 - val_mae: 0.0096\n",
            "Epoch 34/50\n",
            "\u001b[1m28/28\u001b[0m \u001b[32m━━━━━━━━━━━━━━━━━━━━\u001b[0m\u001b[37m\u001b[0m \u001b[1m0s\u001b[0m 4ms/step - loss: 4.7671e-04 - mae: 0.0165 - val_loss: 1.5966e-04 - val_mae: 0.0096\n",
            "Epoch 35/50\n",
            "\u001b[1m28/28\u001b[0m \u001b[32m━━━━━━━━━━━━━━━━━━━━\u001b[0m\u001b[37m\u001b[0m \u001b[1m0s\u001b[0m 4ms/step - loss: 5.7772e-04 - mae: 0.0169 - val_loss: 1.5839e-04 - val_mae: 0.0096\n",
            "Epoch 36/50\n",
            "\u001b[1m28/28\u001b[0m \u001b[32m━━━━━━━━━━━━━━━━━━━━\u001b[0m\u001b[37m\u001b[0m \u001b[1m0s\u001b[0m 4ms/step - loss: 4.9134e-04 - mae: 0.0161 - val_loss: 1.5589e-04 - val_mae: 0.0095\n",
            "Epoch 37/50\n",
            "\u001b[1m28/28\u001b[0m \u001b[32m━━━━━━━━━━━━━━━━━━━━\u001b[0m\u001b[37m\u001b[0m \u001b[1m0s\u001b[0m 4ms/step - loss: 4.7538e-04 - mae: 0.0157 - val_loss: 1.5488e-04 - val_mae: 0.0095\n",
            "Epoch 38/50\n",
            "\u001b[1m28/28\u001b[0m \u001b[32m━━━━━━━━━━━━━━━━━━━━\u001b[0m\u001b[37m\u001b[0m \u001b[1m0s\u001b[0m 4ms/step - loss: 4.7341e-04 - mae: 0.0160 - val_loss: 1.5926e-04 - val_mae: 0.0096\n",
            "Epoch 39/50\n",
            "\u001b[1m28/28\u001b[0m \u001b[32m━━━━━━━━━━━━━━━━━━━━\u001b[0m\u001b[37m\u001b[0m \u001b[1m0s\u001b[0m 4ms/step - loss: 5.3641e-04 - mae: 0.0165 - val_loss: 1.5706e-04 - val_mae: 0.0095\n",
            "Epoch 40/50\n",
            "\u001b[1m28/28\u001b[0m \u001b[32m━━━━━━━━━━━━━━━━━━━━\u001b[0m\u001b[37m\u001b[0m \u001b[1m0s\u001b[0m 5ms/step - loss: 5.2625e-04 - mae: 0.0165 - val_loss: 1.5706e-04 - val_mae: 0.0095\n",
            "Epoch 41/50\n",
            "\u001b[1m28/28\u001b[0m \u001b[32m━━━━━━━━━━━━━━━━━━━━\u001b[0m\u001b[37m\u001b[0m \u001b[1m0s\u001b[0m 4ms/step - loss: 5.4878e-04 - mae: 0.0167 - val_loss: 1.5464e-04 - val_mae: 0.0095\n",
            "Epoch 42/50\n",
            "\u001b[1m28/28\u001b[0m \u001b[32m━━━━━━━━━━━━━━━━━━━━\u001b[0m\u001b[37m\u001b[0m \u001b[1m0s\u001b[0m 4ms/step - loss: 5.1530e-04 - mae: 0.0167 - val_loss: 1.5638e-04 - val_mae: 0.0095\n",
            "Epoch 43/50\n",
            "\u001b[1m28/28\u001b[0m \u001b[32m━━━━━━━━━━━━━━━━━━━━\u001b[0m\u001b[37m\u001b[0m \u001b[1m0s\u001b[0m 4ms/step - loss: 5.0774e-04 - mae: 0.0159 - val_loss: 1.5430e-04 - val_mae: 0.0095\n",
            "Epoch 44/50\n",
            "\u001b[1m28/28\u001b[0m \u001b[32m━━━━━━━━━━━━━━━━━━━━\u001b[0m\u001b[37m\u001b[0m \u001b[1m0s\u001b[0m 4ms/step - loss: 5.1596e-04 - mae: 0.0163 - val_loss: 1.5582e-04 - val_mae: 0.0095\n",
            "Epoch 45/50\n",
            "\u001b[1m28/28\u001b[0m \u001b[32m━━━━━━━━━━━━━━━━━━━━\u001b[0m\u001b[37m\u001b[0m \u001b[1m0s\u001b[0m 4ms/step - loss: 5.1800e-04 - mae: 0.0162 - val_loss: 1.5861e-04 - val_mae: 0.0096\n",
            "Epoch 46/50\n",
            "\u001b[1m28/28\u001b[0m \u001b[32m━━━━━━━━━━━━━━━━━━━━\u001b[0m\u001b[37m\u001b[0m \u001b[1m0s\u001b[0m 6ms/step - loss: 5.0835e-04 - mae: 0.0158 - val_loss: 1.5506e-04 - val_mae: 0.0095\n",
            "Epoch 47/50\n",
            "\u001b[1m28/28\u001b[0m \u001b[32m━━━━━━━━━━━━━━━━━━━━\u001b[0m\u001b[37m\u001b[0m \u001b[1m0s\u001b[0m 4ms/step - loss: 5.0998e-04 - mae: 0.0158 - val_loss: 1.5767e-04 - val_mae: 0.0096\n",
            "Epoch 48/50\n",
            "\u001b[1m28/28\u001b[0m \u001b[32m━━━━━━━━━━━━━━━━━━━━\u001b[0m\u001b[37m\u001b[0m \u001b[1m0s\u001b[0m 4ms/step - loss: 5.0884e-04 - mae: 0.0163 - val_loss: 1.5589e-04 - val_mae: 0.0095\n",
            "Epoch 49/50\n",
            "\u001b[1m28/28\u001b[0m \u001b[32m━━━━━━━━━━━━━━━━━━━━\u001b[0m\u001b[37m\u001b[0m \u001b[1m0s\u001b[0m 5ms/step - loss: 4.8736e-04 - mae: 0.0159 - val_loss: 1.5844e-04 - val_mae: 0.0096\n",
            "Epoch 50/50\n",
            "\u001b[1m28/28\u001b[0m \u001b[32m━━━━━━━━━━━━━━━━━━━━\u001b[0m\u001b[37m\u001b[0m \u001b[1m0s\u001b[0m 4ms/step - loss: 4.9810e-04 - mae: 0.0163 - val_loss: 1.5386e-04 - val_mae: 0.0095\n"
          ]
        }
      ]
    },
    {
      "cell_type": "code",
      "source": [
        "# Evaluate the model on test data\n",
        "test_loss, test_mae = model.evaluate(X_test, Y_test, verbose=0)\n",
        "print(f\"Test Loss (MSE): {test_loss:.4f}, Test MAE: {test_mae:.4f}\")"
      ],
      "metadata": {
        "colab": {
          "base_uri": "https://localhost:8080/"
        },
        "id": "70En-LDGN6qP",
        "outputId": "55ec06be-faba-4425-8b0d-b191338a53e5"
      },
      "execution_count": 19,
      "outputs": [
        {
          "output_type": "stream",
          "name": "stdout",
          "text": [
            "Test Loss (MSE): 0.0002, Test MAE: 0.0104\n"
          ]
        }
      ]
    },
    {
      "cell_type": "code",
      "source": [
        "# Make predictions\n",
        "predictions = model.predict(X_test)"
      ],
      "metadata": {
        "colab": {
          "base_uri": "https://localhost:8080/"
        },
        "id": "wbWR97fUN8CJ",
        "outputId": "8d436af2-69ab-42f9-969d-a96867d43e67"
      },
      "execution_count": 20,
      "outputs": [
        {
          "output_type": "stream",
          "name": "stdout",
          "text": [
            "\u001b[1m6/6\u001b[0m \u001b[32m━━━━━━━━━━━━━━━━━━━━\u001b[0m\u001b[37m\u001b[0m \u001b[1m0s\u001b[0m 10ms/step\n"
          ]
        }
      ]
    },
    {
      "cell_type": "code",
      "source": [
        "# Plot training and validation loss\n",
        "plt.figure(figsize=(10, 6))\n",
        "plt.plot(history.history['loss'], label='Training Loss')\n",
        "plt.plot(history.history['val_loss'], label='Validation Loss')\n",
        "plt.title('Model Loss Over Epochs')\n",
        "plt.xlabel('Epoch')\n",
        "plt.ylabel('Loss (MSE)')\n",
        "plt.legend()\n",
        "plt.grid(True)\n",
        "plt.savefig('training_loss.png')\n",
        "# plt.close() # Comment out or remove this line\n",
        "plt.show() # Add this line to display the plot"
      ],
      "metadata": {
        "colab": {
          "base_uri": "https://localhost:8080/",
          "height": 584
        },
        "id": "l5FpSO2KN_cN",
        "outputId": "bb481769-a216-4fd7-d6b2-f520b388d171"
      },
      "execution_count": 24,
      "outputs": [
        {
          "output_type": "display_data",
          "data": {
            "text/plain": [
              "<Figure size 1000x600 with 1 Axes>"
            ],
            "image/png": "[encoded data removed]"
          },
          "metadata": {}
        }
      ]
    },
    {
      "cell_type": "code",
      "source": [
        "print(history.history.keys())"
      ],
      "metadata": {
        "colab": {
          "base_uri": "https://localhost:8080/"
        },
        "id": "T5WJOkdGOhvd",
        "outputId": "ee7ab397-1f9c-4388-84c9-6581dff2866b"
      },
      "execution_count": 25,
      "outputs": [
        {
          "output_type": "stream",
          "name": "stdout",
          "text": [
            "dict_keys(['loss', 'mae', 'val_loss', 'val_mae'])\n"
          ]
        }
      ]
    },
    {
      "cell_type": "code",
      "source": [
        "print(\"Training Loss History:\", history.history['loss'])\n",
        "print(\"Validation Loss History:\", history.history['val_loss'])\n",
        "print(\"Training MAE History:\", history.history['mae'])\n",
        "print(\"Validation MAE History:\", history.history['val_mae'])"
      ],
      "metadata": {
        "colab": {
          "base_uri": "https://localhost:8080/"
        },
        "id": "r5z4860mOkqF",
        "outputId": "128486c5-b395-4ca5-b9bc-a7483410fa94"
      },
      "execution_count": 27,
      "outputs": [
        {
          "output_type": "stream",
          "name": "stdout",
          "text": [
            "Training Loss History: [0.03750603273510933, 0.009026006795465946, 0.003245757194235921, 0.0022009536623954773, 0.0015197517350316048, 0.0011752218706533313, 0.0009282258106395602, 0.000896878947969526, 0.0008134552626870573, 0.0007958381320349872, 0.000642733764834702, 0.0006769016617909074, 0.0006193199078552425, 0.000615160446614027, 0.0006033596000634134, 0.0005940939881838858, 0.0005732236313633621, 0.0005815753829665482, 0.0005936755333095789, 0.0005476006190292537, 0.0005139911081641912, 0.0005410139565356076, 0.0005476533551700413, 0.000548123731277883, 0.0005204862100072205, 0.0004990566521883011, 0.0005096591776236892, 0.0005203017499297857, 0.000528582779224962, 0.0005237234872765839, 0.0005162822199054062, 0.0005139377899467945, 0.0005232897819951177, 0.000512648606672883, 0.0005192031967453659, 0.0005146139883436263, 0.000514868414029479, 0.0005153054371476173, 0.0005131631041876972, 0.0005237878067418933, 0.0005120920250192285, 0.0005190686788409948, 0.0005172346718609333, 0.000507434771861881, 0.0005093714571557939, 0.0005083139985799789, 0.0005057260277681053, 0.000502782640978694, 0.0005112491198815405, 0.0005171621451154351]\n",
            "Validation Loss History: [0.00017747844685800374, 0.0006527451332658529, 0.00029665848705917597, 0.00016185246931854635, 0.00017094377835746855, 0.00017340948397759348, 0.00018441096472088248, 0.0002021419204538688, 0.00018928991630673409, 0.00018918493879027665, 0.0001813956187106669, 0.0001821828045649454, 0.00017307951929979026, 0.00017459267110098153, 0.00018778585945256054, 0.00017149037739727646, 0.00016618272638879716, 0.0001690291246632114, 0.00016517926997039467, 0.00016560647054575384, 0.00016064071678556502, 0.0001658041001064703, 0.00016749522183090448, 0.00016411974502261728, 0.00016137788770720363, 0.00016323872841894627, 0.00016355035768356174, 0.00015866725880187005, 0.00016029065591283143, 0.00015738108777441084, 0.00015876354882493615, 0.000153972752741538, 0.00015823310241103172, 0.0001596619695192203, 0.00015838732360862195, 0.00015589347458444536, 0.00015487628115806729, 0.000159256043843925, 0.0001570634776726365, 0.00015705966507084668, 0.00015463505405932665, 0.00015638019249308854, 0.00015429884660989046, 0.00015582135529257357, 0.00015860670828260481, 0.0001550591696286574, 0.00015766713477205485, 0.00015589171380270272, 0.00015844462905079126, 0.00015385932056233287]\n",
            "Training MAE History: [0.14756672084331512, 0.0734112337231636, 0.04330413043498993, 0.034194231033325195, 0.027295555919408798, 0.024588515982031822, 0.022218769416213036, 0.020921500399708748, 0.020004505291581154, 0.0195706058293581, 0.018625356256961823, 0.01832076907157898, 0.017876530066132545, 0.01809631660580635, 0.01774824596941471, 0.01756885275244713, 0.017419742420315742, 0.01722598262131214, 0.01742941327393055, 0.01677817851305008, 0.01630777306854725, 0.016654081642627716, 0.016740042716264725, 0.016939807683229446, 0.016460897400975227, 0.016130754724144936, 0.01631636545062065, 0.016351187601685524, 0.01655730977654457, 0.01635861210525036, 0.016259690746665, 0.01623036339879036, 0.01627580262720585, 0.016287893056869507, 0.01617903634905815, 0.01618528738617897, 0.01629442349076271, 0.016271231696009636, 0.016205593943595886, 0.016427038237452507, 0.016045251861214638, 0.016305619850754738, 0.01630730740725994, 0.016091639176011086, 0.01612997241318226, 0.016131848096847534, 0.016054796054959297, 0.016078321263194084, 0.016188044100999832, 0.01626279577612877]\n",
            "Validation MAE History: [0.010118651203811169, 0.02334725484251976, 0.014401920139789581, 0.009823862463235855, 0.009839104488492012, 0.009896793402731419, 0.010210051201283932, 0.010746720246970654, 0.010363862849771976, 0.010370057076215744, 0.010136080905795097, 0.010159488767385483, 0.00990875530987978, 0.009953922592103481, 0.010336343199014664, 0.00986959133297205, 0.009738254360854626, 0.009810283780097961, 0.009714540094137192, 0.009724480099976063, 0.009607769548892975, 0.00972940307110548, 0.00977069977670908, 0.009689847938716412, 0.00962422601878643, 0.009668274782598019, 0.00967497006058693, 0.00957033783197403, 0.009601694531738758, 0.009543882682919502, 0.009572545066475868, 0.009471883065998554, 0.009562136605381966, 0.009590303525328636, 0.009565092623233795, 0.009510606527328491, 0.009490260854363441, 0.009582924656569958, 0.009537998586893082, 0.00953768938779831, 0.009485780261456966, 0.00952268298715353, 0.009478868916630745, 0.009509417228400707, 0.009569983929395676, 0.009493795223534107, 0.009551326744258404, 0.009512059390544891, 0.009567616507411003, 0.009471177123486996]\n"
          ]
        }
      ]
    },
    {
      "cell_type": "code",
      "source": [
        "\n",
        "# Save the trained model\n",
        "model.save('my_stock_prediction_model.keras')\n",
        "print(\"Model saved successfully!\")"
      ],
      "metadata": {
        "colab": {
          "base_uri": "https://localhost:8080/"
        },
        "id": "OjonEWTYPEmF",
        "outputId": "b8fc1458-0499-4b5f-c665-884b32b3f491"
      },
      "execution_count": 28,
      "outputs": [
        {
          "output_type": "stream",
          "name": "stdout",
          "text": [
            "Model saved successfully!\n"
          ]
        }
      ]
    },
    {
      "cell_type": "code",
      "source": [
        "# Import necessary libraries\n",
        "import tensorflow as tf\n",
        "import numpy as np\n",
        "import yfinance as yf\n",
        "import pandas as pd\n",
        "\n",
        "# Assuming you have the make_dataset function defined (from your previous code)\n",
        "def make_dataset(raw_data,window_size=20):\n",
        "    size=len(raw_data)\n",
        "    x=[]\n",
        "    y=[]\n",
        "    for i in range(size-window_size):\n",
        "        block=raw_data[i:i+window_size]\n",
        "        x_i=[p/block[0] for  p in block ]\n",
        "        y_i = (raw_data[i + window_size] - block[-1]) / block[-1]\n",
        "        x.append(x_i)\n",
        "        y.append(y_i)\n",
        "\n",
        "    return x,y\n",
        "\n",
        "# --- Inference Code ---\n",
        "\n",
        "# Load the saved model\n",
        "# Make sure the model file 'my_stock_prediction_model.keras' exists in the same directory,\n",
        "# or provide the full path to the file.\n",
        "try:\n",
        "    loaded_model = tf.keras.models.load_model('my_stock_prediction_model.keras')\n",
        "    print(\"Model loaded successfully!\")\n",
        "except Exception as e:\n",
        "    print(f\"Error loading the model: {e}\")\n",
        "    # Exit or handle the error if the model cannot be loaded\n",
        "    exit()\n",
        "\n",
        "# Prepare new data for inference\n",
        "# You'll need to get the most recent stock data to make a prediction about the next step.\n",
        "# Define the stock ticker and the required date range for the window size\n",
        "ticker = \"AAPL\"\n",
        "window_size = 20 # This should match the window_size used during training\n",
        "\n",
        "# Fetch the data for the last 'window_size' days\n",
        "# We fetch data up to the current date to get the most recent window.\n",
        "# You might need to adjust the end date based on when you run this code.\n",
        "# Let's fetch data for a bit longer than the window size to ensure we have enough\n",
        "# data points, in case there are gaps (like weekends or holidays).\n",
        "end_date_inference = pd.Timestamp.now().strftime('%Y-%m-%d')\n",
        "start_date_inference = (pd.Timestamp.now() - pd.Timedelta(days=window_size + 5)).strftime('%Y-%m-%d') # Fetch a few extra days\n",
        "\n",
        "\n",
        "try:\n",
        "    # Fetch the data\n",
        "    inference_data = yf.download(ticker, start=start_date_inference, end=end_date_inference)\n",
        "\n",
        "    # Access the Close prices and get the last 'window_size' values\n",
        "    # Ensure there are enough data points\n",
        "    if len(inference_data['Close']) < window_size:\n",
        "        print(f\"Not enough data points ({len(inference_data)}) to form a window of size {window_size}.\")\n",
        "        # Exit or handle the error\n",
        "        exit()\n",
        "\n",
        "    # Get the last 'window_size' closing prices\n",
        "    raw_inference_window = inference_data['Close'][ticker].tail(window_size).tolist()\n",
        "\n",
        "    # Prepare the inference data in the same format as your training data (normalized)\n",
        "    # Apply the same normalization logic as in your make_dataset function\n",
        "    if raw_inference_window: # Check if the list is not empty\n",
        "        first_price = raw_inference_window[0]\n",
        "        inference_window_normalized = [p / first_price for p in raw_inference_window]\n",
        "    else:\n",
        "        print(\"Could not get enough data to create an inference window.\")\n",
        "        exit()\n",
        "\n",
        "\n",
        "    # Convert the normalized window to a NumPy array and reshape for the model\n",
        "    # The model expects an input shape like (batch_size, window_size).\n",
        "    # For a single prediction, batch_size is 1.\n",
        "    inference_input = np.array(inference_window_normalized).reshape(1, window_size)\n",
        "\n",
        "    # Make a prediction\n",
        "    prediction = loaded_model.predict(inference_input)\n",
        "\n",
        "    # The prediction is likely the normalized price change.\n",
        "    # To get the actual predicted price, you need the last price from your input window\n",
        "    last_price_in_window = raw_inference_window[-1]\n",
        "\n",
        "    # The prediction is the percentage change (as per your make_dataset function's y calculation)\n",
        "    # Predicted price = last_price_in_window * (1 + predicted_percentage_change)\n",
        "    predicted_price_change_ratio = prediction[0][0] # Get the scalar prediction value\n",
        "    predicted_next_price = last_price_in_window * (1 + predicted_price_change_ratio)\n",
        "\n",
        "\n",
        "    print(f\"\\nUsing the last {window_size} days of data.\")\n",
        "    print(f\"Last closing price in window: {last_price_in_window:.2f}\")\n",
        "    print(f\"Predicted price change ratio: {predicted_price_change_ratio:.6f}\")\n",
        "    print(f\"Predicted next closing price: {predicted_next_price:.2f}\")\n",
        "\n",
        "except Exception as e:\n",
        "    print(f\"Error during data fetching or prediction: {e}\")"
      ],
      "metadata": {
        "colab": {
          "base_uri": "https://localhost:8080/"
        },
        "id": "TCdVy65hP1C8",
        "outputId": "1bfbee37-d61c-483c-9059-a449ac595b71"
      },
      "execution_count": 1,
      "outputs": [
        {
          "output_type": "stream",
          "name": "stdout",
          "text": [
            "Model loaded successfully!\n",
            "YF.download() has changed argument auto_adjust default to True\n"
          ]
        },
        {
          "output_type": "stream",
          "name": "stderr",
          "text": [
            "\r[*********************100%***********************]  1 of 1 completed"
          ]
        },
        {
          "output_type": "stream",
          "name": "stdout",
          "text": [
            "Error during data fetching or prediction: 'DataFrame' object has no attribute 'tolist'\n"
          ]
        },
        {
          "output_type": "stream",
          "name": "stderr",
          "text": [
            "\n"
          ]
        }
      ]
    },
    {
      "cell_type": "code",
      "source": [
        "# Import necessary libraries\n",
        "import tensorflow as tf\n",
        "import numpy as np\n",
        "import yfinance as yf\n",
        "import pandas as pd\n",
        "\n",
        "# Assuming you have the make_dataset function defined (from your previous code)\n",
        "def make_dataset(raw_data,window_size=20):\n",
        "    size=len(raw_data)\n",
        "    x=[]\n",
        "    y=[]\n",
        "    for i in range(size-window_size):\n",
        "        block=raw_data[i:i+window_size]\n",
        "        x_i=[p/block[0] for  p in block ]\n",
        "        y_i = (raw_data[i + window_size] - block[-1]) / block[-1]\n",
        "        x.append(x_i)\n",
        "        y.append(y_i)\n",
        "\n",
        "    return x,y\n",
        "\n",
        "# --- Inference Code ---\n",
        "\n",
        "# Load the saved model\n",
        "# Make sure the model file 'my_stock_prediction_model.keras' exists in the same directory,\n",
        "# or provide the full path to the file.\n",
        "try:\n",
        "    loaded_model = tf.keras.models.load_model('my_stock_prediction_model.keras')\n",
        "    print(\"Model loaded successfully!\")\n",
        "except Exception as e:\n",
        "    print(f\"Error loading the model: {e}\")\n",
        "    # Exit or handle the error if the model cannot be loaded\n",
        "    exit()\n",
        "\n",
        "# Prepare new data for inference\n",
        "# You'll need to get the most recent stock data to make a prediction about the next step.\n",
        "# Define the stock ticker and the required date range for the window size\n",
        "ticker = \"AAPL\"\n",
        "window_size = 20 # This should match the window_size used during training\n",
        "\n",
        "# Fetch the data for the last 'window_size' days\n",
        "# We fetch data up to the current date to get the most recent window.\n",
        "# You might need to adjust the end date based on when you run this code.\n",
        "# Let's fetch data for a bit longer than the window size to ensure we have enough\n",
        "# data points, in case there are gaps (like weekends or holidays).\n",
        "end_date_inference = pd.Timestamp.now().strftime('%Y-%m-%d')\n",
        "# Request data for a longer period to ensure we get enough trading days\n",
        "start_date_inference = (pd.Timestamp.now() - pd.Timedelta(days=window_size * 2)).strftime('%Y-%m-%d') # Increased the number of days requested\n",
        "\n",
        "\n",
        "try:\n",
        "    # Fetch the data\n",
        "    inference_data = yf.download(ticker, start=start_date_inference, end=end_date_inference)\n",
        "\n",
        "    # Access the Close prices and get the last 'window_size' values\n",
        "    # Ensure there are enough data points\n",
        "    if len(inference_data['Close']) < window_size:\n",
        "        print(f\"Not enough data points ({len(inference_data)}) to form a window of size {window_size}.\")\n",
        "        # Exit or handle the error\n",
        "        exit()\n",
        "\n",
        "    # Get the last 'window_size' closing prices\n",
        "    # Use .iloc[-window_size:] to reliably get the last N rows as a Series, then convert to list\n",
        "    raw_inference_window = inference_data['Close'].iloc[-window_size:].tolist()\n",
        "\n",
        "\n",
        "    # Prepare the inference data in the same format as your training data (normalized)\n",
        "    # Apply the same normalization logic as in your make_dataset function\n",
        "    if raw_inference_window: # Check if the list is not empty\n",
        "        first_price = raw_inference_window[0]\n",
        "        inference_window_normalized = [p / first_price for p in raw_inference_window]\n",
        "    else:\n",
        "        print(\"Could not get enough data to create an inference window.\")\n",
        "        exit()\n",
        "\n",
        "\n",
        "    # Convert the normalized window to a NumPy array and reshape for the model\n",
        "    # The model expects an input shape like (batch_size, window_size).\n",
        "    # For a single prediction, batch_size is 1.\n",
        "    inference_input = np.array(inference_window_normalized).reshape(1, window_size)\n",
        "\n",
        "    # Make a prediction\n",
        "    prediction = loaded_model.predict(inference_input)\n",
        "\n",
        "    # The prediction is likely the normalized price change.\n",
        "    # To get the actual predicted price, you need the last price from your input window\n",
        "    last_price_in_window = raw_inference_window[-1]\n",
        "\n",
        "    # The prediction is the percentage change (as per your make_dataset function's y calculation)\n",
        "    # Predicted price = last_price_in_window * (1 + predicted_percentage_change)\n",
        "    predicted_price_change_ratio = prediction[0][0] # Get the scalar prediction value\n",
        "    predicted_next_price = last_price_in_window * (1 + predicted_price_change_ratio)\n",
        "\n",
        "\n",
        "    print(f\"\\nUsing the last {window_size} days of data.\")\n",
        "    print(f\"Last closing price in window: {last_price_in_window:.2f}\")\n",
        "    print(f\"Predicted price change ratio: {predicted_price_change_ratio:.6f}\")\n",
        "    print(f\"Predicted next closing price: {predicted_next_price:.2f}\")\n",
        "\n",
        "except Exception as e:\n",
        "    print(f\"Error during data fetching or prediction: {e}\")"
      ],
      "metadata": {
        "id": "Gj0GQNgqQPYm"
      },
      "execution_count": null,
      "outputs": []
    }
  ]
}